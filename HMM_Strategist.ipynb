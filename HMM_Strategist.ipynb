{
 "cells": [
  {
   "cell_type": "markdown",
   "metadata": {},
   "source": [
    "### Imports"
   ]
  },
  {
   "cell_type": "code",
   "execution_count": 1,
   "metadata": {},
   "outputs": [],
   "source": [
    "import pandas as pd\n",
    "import numpy as np\n",
    "\n",
    "from hmmlearn.hmm import GaussianHMM\n",
    "from pandas_datareader.data import DataReader\n",
    "import yfinance as yf\n",
    "import matplotlib.pyplot as plt"
   ]
  },
  {
   "cell_type": "markdown",
   "metadata": {},
   "source": [
    "### Data Managment"
   ]
  },
  {
   "cell_type": "code",
   "execution_count": 2,
   "metadata": {},
   "outputs": [
    {
     "name": "stdout",
     "output_type": "stream",
     "text": [
      "[*********************100%%**********************]  1 of 1 completed\n"
     ]
    },
    {
     "data": {
      "text/html": [
       "<div>\n",
       "<style scoped>\n",
       "    .dataframe tbody tr th:only-of-type {\n",
       "        vertical-align: middle;\n",
       "    }\n",
       "\n",
       "    .dataframe tbody tr th {\n",
       "        vertical-align: top;\n",
       "    }\n",
       "\n",
       "    .dataframe thead th {\n",
       "        text-align: right;\n",
       "    }\n",
       "</style>\n",
       "<table border=\"1\" class=\"dataframe\">\n",
       "  <thead>\n",
       "    <tr style=\"text-align: right;\">\n",
       "      <th></th>\n",
       "      <th>Open</th>\n",
       "      <th>High</th>\n",
       "      <th>Low</th>\n",
       "      <th>Adj Close</th>\n",
       "      <th>Volume</th>\n",
       "    </tr>\n",
       "    <tr>\n",
       "      <th>Date</th>\n",
       "      <th></th>\n",
       "      <th></th>\n",
       "      <th></th>\n",
       "      <th></th>\n",
       "      <th></th>\n",
       "    </tr>\n",
       "  </thead>\n",
       "  <tbody>\n",
       "    <tr>\n",
       "      <th>2021-01-04</th>\n",
       "      <td>375.309998</td>\n",
       "      <td>375.450012</td>\n",
       "      <td>364.820007</td>\n",
       "      <td>352.767181</td>\n",
       "      <td>110210800</td>\n",
       "    </tr>\n",
       "    <tr>\n",
       "      <th>2021-01-05</th>\n",
       "      <td>368.100006</td>\n",
       "      <td>372.500000</td>\n",
       "      <td>368.049988</td>\n",
       "      <td>355.196808</td>\n",
       "      <td>66426200</td>\n",
       "    </tr>\n",
       "    <tr>\n",
       "      <th>2021-01-06</th>\n",
       "      <td>369.709991</td>\n",
       "      <td>376.980011</td>\n",
       "      <td>369.119995</td>\n",
       "      <td>357.320282</td>\n",
       "      <td>107997700</td>\n",
       "    </tr>\n",
       "    <tr>\n",
       "      <th>2021-01-07</th>\n",
       "      <td>376.100006</td>\n",
       "      <td>379.899994</td>\n",
       "      <td>375.910004</td>\n",
       "      <td>362.629181</td>\n",
       "      <td>68766800</td>\n",
       "    </tr>\n",
       "    <tr>\n",
       "      <th>2021-01-08</th>\n",
       "      <td>380.589996</td>\n",
       "      <td>381.489990</td>\n",
       "      <td>377.100006</td>\n",
       "      <td>364.695343</td>\n",
       "      <td>71677200</td>\n",
       "    </tr>\n",
       "  </tbody>\n",
       "</table>\n",
       "</div>"
      ],
      "text/plain": [
       "                  Open        High         Low   Adj Close     Volume\n",
       "Date                                                                 \n",
       "2021-01-04  375.309998  375.450012  364.820007  352.767181  110210800\n",
       "2021-01-05  368.100006  372.500000  368.049988  355.196808   66426200\n",
       "2021-01-06  369.709991  376.980011  369.119995  357.320282  107997700\n",
       "2021-01-07  376.100006  379.899994  375.910004  362.629181   68766800\n",
       "2021-01-08  380.589996  381.489990  377.100006  364.695343   71677200"
      ]
     },
     "execution_count": 2,
     "metadata": {},
     "output_type": "execute_result"
    }
   ],
   "source": [
    "start_date = '2021-01-01'\n",
    "end_date = '2023-12-01'\n",
    "symbol = 'SPY'\n",
    "data = yf.download(symbol, start_date, end_date)\n",
    "data = data[['Open', 'High', 'Low', 'Adj Close', 'Volume']]\n",
    "data.head()"
   ]
  },
  {
   "cell_type": "code",
   "execution_count": 3,
   "metadata": {},
   "outputs": [
    {
     "data": {
      "text/html": [
       "<div>\n",
       "<style scoped>\n",
       "    .dataframe tbody tr th:only-of-type {\n",
       "        vertical-align: middle;\n",
       "    }\n",
       "\n",
       "    .dataframe tbody tr th {\n",
       "        vertical-align: top;\n",
       "    }\n",
       "\n",
       "    .dataframe thead th {\n",
       "        text-align: right;\n",
       "    }\n",
       "</style>\n",
       "<table border=\"1\" class=\"dataframe\">\n",
       "  <thead>\n",
       "    <tr style=\"text-align: right;\">\n",
       "      <th></th>\n",
       "      <th>Open</th>\n",
       "      <th>High</th>\n",
       "      <th>Low</th>\n",
       "      <th>Adj Close</th>\n",
       "      <th>Volume</th>\n",
       "      <th>Returns</th>\n",
       "      <th>Range</th>\n",
       "    </tr>\n",
       "    <tr>\n",
       "      <th>Date</th>\n",
       "      <th></th>\n",
       "      <th></th>\n",
       "      <th></th>\n",
       "      <th></th>\n",
       "      <th></th>\n",
       "      <th></th>\n",
       "      <th></th>\n",
       "    </tr>\n",
       "  </thead>\n",
       "  <tbody>\n",
       "    <tr>\n",
       "      <th>2021-01-05</th>\n",
       "      <td>368.100006</td>\n",
       "      <td>372.500000</td>\n",
       "      <td>368.049988</td>\n",
       "      <td>355.196808</td>\n",
       "      <td>66426200</td>\n",
       "      <td>0.006887</td>\n",
       "      <td>0.012091</td>\n",
       "    </tr>\n",
       "    <tr>\n",
       "      <th>2021-01-06</th>\n",
       "      <td>369.709991</td>\n",
       "      <td>376.980011</td>\n",
       "      <td>369.119995</td>\n",
       "      <td>357.320282</td>\n",
       "      <td>107997700</td>\n",
       "      <td>0.005978</td>\n",
       "      <td>0.021294</td>\n",
       "    </tr>\n",
       "    <tr>\n",
       "      <th>2021-01-07</th>\n",
       "      <td>376.100006</td>\n",
       "      <td>379.899994</td>\n",
       "      <td>375.910004</td>\n",
       "      <td>362.629181</td>\n",
       "      <td>68766800</td>\n",
       "      <td>0.014858</td>\n",
       "      <td>0.010614</td>\n",
       "    </tr>\n",
       "    <tr>\n",
       "      <th>2021-01-08</th>\n",
       "      <td>380.589996</td>\n",
       "      <td>381.489990</td>\n",
       "      <td>377.100006</td>\n",
       "      <td>364.695343</td>\n",
       "      <td>71677200</td>\n",
       "      <td>0.005698</td>\n",
       "      <td>0.011641</td>\n",
       "    </tr>\n",
       "    <tr>\n",
       "      <th>2021-01-11</th>\n",
       "      <td>377.850006</td>\n",
       "      <td>380.579987</td>\n",
       "      <td>377.720001</td>\n",
       "      <td>362.237061</td>\n",
       "      <td>51034700</td>\n",
       "      <td>-0.006741</td>\n",
       "      <td>0.007572</td>\n",
       "    </tr>\n",
       "  </tbody>\n",
       "</table>\n",
       "</div>"
      ],
      "text/plain": [
       "                  Open        High         Low   Adj Close     Volume  \\\n",
       "Date                                                                    \n",
       "2021-01-05  368.100006  372.500000  368.049988  355.196808   66426200   \n",
       "2021-01-06  369.709991  376.980011  369.119995  357.320282  107997700   \n",
       "2021-01-07  376.100006  379.899994  375.910004  362.629181   68766800   \n",
       "2021-01-08  380.589996  381.489990  377.100006  364.695343   71677200   \n",
       "2021-01-11  377.850006  380.579987  377.720001  362.237061   51034700   \n",
       "\n",
       "             Returns     Range  \n",
       "Date                            \n",
       "2021-01-05  0.006887  0.012091  \n",
       "2021-01-06  0.005978  0.021294  \n",
       "2021-01-07  0.014858  0.010614  \n",
       "2021-01-08  0.005698  0.011641  \n",
       "2021-01-11 -0.006741  0.007572  "
      ]
     },
     "execution_count": 3,
     "metadata": {},
     "output_type": "execute_result"
    }
   ],
   "source": [
    "# Add Returns and Range\n",
    "df = data.copy()\n",
    "df['Returns'] = (df['Adj Close'] / df['Adj Close'].shift(1)) - 1\n",
    "df['Range'] = (df['High'] / df['Low']) - 1\n",
    "df.dropna(inplace = True)\n",
    "df.head()\n"
   ]
  },
  {
   "cell_type": "code",
   "execution_count": 4,
   "metadata": {},
   "outputs": [
    {
     "data": {
      "text/html": [
       "<div>\n",
       "<style scoped>\n",
       "    .dataframe tbody tr th:only-of-type {\n",
       "        vertical-align: middle;\n",
       "    }\n",
       "\n",
       "    .dataframe tbody tr th {\n",
       "        vertical-align: top;\n",
       "    }\n",
       "\n",
       "    .dataframe thead th {\n",
       "        text-align: right;\n",
       "    }\n",
       "</style>\n",
       "<table border=\"1\" class=\"dataframe\">\n",
       "  <thead>\n",
       "    <tr style=\"text-align: right;\">\n",
       "      <th></th>\n",
       "      <th>Returns</th>\n",
       "      <th>Range</th>\n",
       "    </tr>\n",
       "    <tr>\n",
       "      <th>Date</th>\n",
       "      <th></th>\n",
       "      <th></th>\n",
       "    </tr>\n",
       "  </thead>\n",
       "  <tbody>\n",
       "    <tr>\n",
       "      <th>2021-01-05</th>\n",
       "      <td>0.006887</td>\n",
       "      <td>0.012091</td>\n",
       "    </tr>\n",
       "    <tr>\n",
       "      <th>2021-01-06</th>\n",
       "      <td>0.005978</td>\n",
       "      <td>0.021294</td>\n",
       "    </tr>\n",
       "    <tr>\n",
       "      <th>2021-01-07</th>\n",
       "      <td>0.014858</td>\n",
       "      <td>0.010614</td>\n",
       "    </tr>\n",
       "    <tr>\n",
       "      <th>2021-01-08</th>\n",
       "      <td>0.005698</td>\n",
       "      <td>0.011641</td>\n",
       "    </tr>\n",
       "    <tr>\n",
       "      <th>2021-01-11</th>\n",
       "      <td>-0.006741</td>\n",
       "      <td>0.007572</td>\n",
       "    </tr>\n",
       "  </tbody>\n",
       "</table>\n",
       "</div>"
      ],
      "text/plain": [
       "             Returns     Range\n",
       "Date                          \n",
       "2021-01-05  0.006887  0.012091\n",
       "2021-01-06  0.005978  0.021294\n",
       "2021-01-07  0.014858  0.010614\n",
       "2021-01-08  0.005698  0.011641\n",
       "2021-01-11 -0.006741  0.007572"
      ]
     },
     "execution_count": 4,
     "metadata": {},
     "output_type": "execute_result"
    }
   ],
   "source": [
    "# Structure Data\n",
    "X_train = df[['Returns', 'Range']]\n",
    "X_train.head()"
   ]
  },
  {
   "cell_type": "markdown",
   "metadata": {},
   "source": [
    "### HMM Learning"
   ]
  },
  {
   "cell_type": "code",
   "execution_count": 5,
   "metadata": {},
   "outputs": [
    {
     "ename": "ValueError",
     "evalue": "'covars' must be symmetric, positive-definite",
     "output_type": "error",
     "traceback": [
      "\u001b[1;31m---------------------------------------------------------------------------\u001b[0m",
      "\u001b[1;31mLinAlgError\u001b[0m                               Traceback (most recent call last)",
      "File \u001b[1;32mc:\\Users\\sergey.churkov\\AppData\\Local\\anaconda3\\envs\\gpu\\lib\\site-packages\\hmmlearn\\stats.py:81\u001b[0m, in \u001b[0;36m_log_multivariate_normal_density_full\u001b[1;34m(X, means, covars, min_covar)\u001b[0m\n\u001b[0;32m     80\u001b[0m \u001b[38;5;28;01mtry\u001b[39;00m:\n\u001b[1;32m---> 81\u001b[0m     cv_chol \u001b[38;5;241m=\u001b[39m \u001b[43mlinalg\u001b[49m\u001b[38;5;241;43m.\u001b[39;49m\u001b[43mcholesky\u001b[49m\u001b[43m(\u001b[49m\u001b[43mcv\u001b[49m\u001b[43m,\u001b[49m\u001b[43m \u001b[49m\u001b[43mlower\u001b[49m\u001b[38;5;241;43m=\u001b[39;49m\u001b[38;5;28;43;01mTrue\u001b[39;49;00m\u001b[43m)\u001b[49m\n\u001b[0;32m     82\u001b[0m \u001b[38;5;28;01mexcept\u001b[39;00m linalg\u001b[38;5;241m.\u001b[39mLinAlgError:\n\u001b[0;32m     83\u001b[0m     \u001b[38;5;66;03m# The model is most probably stuck in a component with too\u001b[39;00m\n\u001b[0;32m     84\u001b[0m     \u001b[38;5;66;03m# few observations, we need to reinitialize this components\u001b[39;00m\n",
      "File \u001b[1;32mc:\\Users\\sergey.churkov\\AppData\\Local\\anaconda3\\envs\\gpu\\lib\\site-packages\\scipy\\linalg\\_decomp_cholesky.py:89\u001b[0m, in \u001b[0;36mcholesky\u001b[1;34m(a, lower, overwrite_a, check_finite)\u001b[0m\n\u001b[0;32m     46\u001b[0m \u001b[38;5;250m\u001b[39m\u001b[38;5;124;03m\"\"\"\u001b[39;00m\n\u001b[0;32m     47\u001b[0m \u001b[38;5;124;03mCompute the Cholesky decomposition of a matrix.\u001b[39;00m\n\u001b[0;32m     48\u001b[0m \n\u001b[1;32m   (...)\u001b[0m\n\u001b[0;32m     87\u001b[0m \n\u001b[0;32m     88\u001b[0m \u001b[38;5;124;03m\"\"\"\u001b[39;00m\n\u001b[1;32m---> 89\u001b[0m c, lower \u001b[38;5;241m=\u001b[39m \u001b[43m_cholesky\u001b[49m\u001b[43m(\u001b[49m\u001b[43ma\u001b[49m\u001b[43m,\u001b[49m\u001b[43m \u001b[49m\u001b[43mlower\u001b[49m\u001b[38;5;241;43m=\u001b[39;49m\u001b[43mlower\u001b[49m\u001b[43m,\u001b[49m\u001b[43m \u001b[49m\u001b[43moverwrite_a\u001b[49m\u001b[38;5;241;43m=\u001b[39;49m\u001b[43moverwrite_a\u001b[49m\u001b[43m,\u001b[49m\u001b[43m \u001b[49m\u001b[43mclean\u001b[49m\u001b[38;5;241;43m=\u001b[39;49m\u001b[38;5;28;43;01mTrue\u001b[39;49;00m\u001b[43m,\u001b[49m\n\u001b[0;32m     90\u001b[0m \u001b[43m                     \u001b[49m\u001b[43mcheck_finite\u001b[49m\u001b[38;5;241;43m=\u001b[39;49m\u001b[43mcheck_finite\u001b[49m\u001b[43m)\u001b[49m\n\u001b[0;32m     91\u001b[0m \u001b[38;5;28;01mreturn\u001b[39;00m c\n",
      "File \u001b[1;32mc:\\Users\\sergey.churkov\\AppData\\Local\\anaconda3\\envs\\gpu\\lib\\site-packages\\scipy\\linalg\\_decomp_cholesky.py:37\u001b[0m, in \u001b[0;36m_cholesky\u001b[1;34m(a, lower, overwrite_a, clean, check_finite)\u001b[0m\n\u001b[0;32m     36\u001b[0m \u001b[38;5;28;01mif\u001b[39;00m info \u001b[38;5;241m>\u001b[39m \u001b[38;5;241m0\u001b[39m:\n\u001b[1;32m---> 37\u001b[0m     \u001b[38;5;28;01mraise\u001b[39;00m LinAlgError(\u001b[38;5;124m\"\u001b[39m\u001b[38;5;132;01m%d\u001b[39;00m\u001b[38;5;124m-th leading minor of the array is not positive \u001b[39m\u001b[38;5;124m\"\u001b[39m\n\u001b[0;32m     38\u001b[0m                       \u001b[38;5;124m\"\u001b[39m\u001b[38;5;124mdefinite\u001b[39m\u001b[38;5;124m\"\u001b[39m \u001b[38;5;241m%\u001b[39m info)\n\u001b[0;32m     39\u001b[0m \u001b[38;5;28;01mif\u001b[39;00m info \u001b[38;5;241m<\u001b[39m \u001b[38;5;241m0\u001b[39m:\n",
      "\u001b[1;31mLinAlgError\u001b[0m: 2-th leading minor of the array is not positive definite",
      "\nDuring handling of the above exception, another exception occurred:\n",
      "\u001b[1;31mLinAlgError\u001b[0m                               Traceback (most recent call last)",
      "File \u001b[1;32mc:\\Users\\sergey.churkov\\AppData\\Local\\anaconda3\\envs\\gpu\\lib\\site-packages\\hmmlearn\\stats.py:86\u001b[0m, in \u001b[0;36m_log_multivariate_normal_density_full\u001b[1;34m(X, means, covars, min_covar)\u001b[0m\n\u001b[0;32m     85\u001b[0m \u001b[38;5;28;01mtry\u001b[39;00m:\n\u001b[1;32m---> 86\u001b[0m     cv_chol \u001b[38;5;241m=\u001b[39m \u001b[43mlinalg\u001b[49m\u001b[38;5;241;43m.\u001b[39;49m\u001b[43mcholesky\u001b[49m\u001b[43m(\u001b[49m\u001b[43mcv\u001b[49m\u001b[43m \u001b[49m\u001b[38;5;241;43m+\u001b[39;49m\u001b[43m \u001b[49m\u001b[43mmin_covar\u001b[49m\u001b[43m \u001b[49m\u001b[38;5;241;43m*\u001b[39;49m\u001b[43m \u001b[49m\u001b[43mnp\u001b[49m\u001b[38;5;241;43m.\u001b[39;49m\u001b[43meye\u001b[49m\u001b[43m(\u001b[49m\u001b[43mnf\u001b[49m\u001b[43m)\u001b[49m\u001b[43m,\u001b[49m\n\u001b[0;32m     87\u001b[0m \u001b[43m                              \u001b[49m\u001b[43mlower\u001b[49m\u001b[38;5;241;43m=\u001b[39;49m\u001b[38;5;28;43;01mTrue\u001b[39;49;00m\u001b[43m)\u001b[49m\n\u001b[0;32m     88\u001b[0m \u001b[38;5;28;01mexcept\u001b[39;00m linalg\u001b[38;5;241m.\u001b[39mLinAlgError:\n",
      "File \u001b[1;32mc:\\Users\\sergey.churkov\\AppData\\Local\\anaconda3\\envs\\gpu\\lib\\site-packages\\scipy\\linalg\\_decomp_cholesky.py:89\u001b[0m, in \u001b[0;36mcholesky\u001b[1;34m(a, lower, overwrite_a, check_finite)\u001b[0m\n\u001b[0;32m     46\u001b[0m \u001b[38;5;250m\u001b[39m\u001b[38;5;124;03m\"\"\"\u001b[39;00m\n\u001b[0;32m     47\u001b[0m \u001b[38;5;124;03mCompute the Cholesky decomposition of a matrix.\u001b[39;00m\n\u001b[0;32m     48\u001b[0m \n\u001b[1;32m   (...)\u001b[0m\n\u001b[0;32m     87\u001b[0m \n\u001b[0;32m     88\u001b[0m \u001b[38;5;124;03m\"\"\"\u001b[39;00m\n\u001b[1;32m---> 89\u001b[0m c, lower \u001b[38;5;241m=\u001b[39m \u001b[43m_cholesky\u001b[49m\u001b[43m(\u001b[49m\u001b[43ma\u001b[49m\u001b[43m,\u001b[49m\u001b[43m \u001b[49m\u001b[43mlower\u001b[49m\u001b[38;5;241;43m=\u001b[39;49m\u001b[43mlower\u001b[49m\u001b[43m,\u001b[49m\u001b[43m \u001b[49m\u001b[43moverwrite_a\u001b[49m\u001b[38;5;241;43m=\u001b[39;49m\u001b[43moverwrite_a\u001b[49m\u001b[43m,\u001b[49m\u001b[43m \u001b[49m\u001b[43mclean\u001b[49m\u001b[38;5;241;43m=\u001b[39;49m\u001b[38;5;28;43;01mTrue\u001b[39;49;00m\u001b[43m,\u001b[49m\n\u001b[0;32m     90\u001b[0m \u001b[43m                     \u001b[49m\u001b[43mcheck_finite\u001b[49m\u001b[38;5;241;43m=\u001b[39;49m\u001b[43mcheck_finite\u001b[49m\u001b[43m)\u001b[49m\n\u001b[0;32m     91\u001b[0m \u001b[38;5;28;01mreturn\u001b[39;00m c\n",
      "File \u001b[1;32mc:\\Users\\sergey.churkov\\AppData\\Local\\anaconda3\\envs\\gpu\\lib\\site-packages\\scipy\\linalg\\_decomp_cholesky.py:37\u001b[0m, in \u001b[0;36m_cholesky\u001b[1;34m(a, lower, overwrite_a, clean, check_finite)\u001b[0m\n\u001b[0;32m     36\u001b[0m \u001b[38;5;28;01mif\u001b[39;00m info \u001b[38;5;241m>\u001b[39m \u001b[38;5;241m0\u001b[39m:\n\u001b[1;32m---> 37\u001b[0m     \u001b[38;5;28;01mraise\u001b[39;00m LinAlgError(\u001b[38;5;124m\"\u001b[39m\u001b[38;5;132;01m%d\u001b[39;00m\u001b[38;5;124m-th leading minor of the array is not positive \u001b[39m\u001b[38;5;124m\"\u001b[39m\n\u001b[0;32m     38\u001b[0m                       \u001b[38;5;124m\"\u001b[39m\u001b[38;5;124mdefinite\u001b[39m\u001b[38;5;124m\"\u001b[39m \u001b[38;5;241m%\u001b[39m info)\n\u001b[0;32m     39\u001b[0m \u001b[38;5;28;01mif\u001b[39;00m info \u001b[38;5;241m<\u001b[39m \u001b[38;5;241m0\u001b[39m:\n",
      "\u001b[1;31mLinAlgError\u001b[0m: 2-th leading minor of the array is not positive definite",
      "\nDuring handling of the above exception, another exception occurred:\n",
      "\u001b[1;31mValueError\u001b[0m                                Traceback (most recent call last)",
      "Cell \u001b[1;32mIn[5], line 3\u001b[0m\n\u001b[0;32m      1\u001b[0m \u001b[38;5;66;03m# Train Model\u001b[39;00m\n\u001b[0;32m      2\u001b[0m model \u001b[38;5;241m=\u001b[39m GaussianHMM(n_components\u001b[38;5;241m=\u001b[39m\u001b[38;5;241m4\u001b[39m, covariance_type\u001b[38;5;241m=\u001b[39m\u001b[38;5;124m'\u001b[39m\u001b[38;5;124mfull\u001b[39m\u001b[38;5;124m'\u001b[39m)\n\u001b[1;32m----> 3\u001b[0m \u001b[43mmodel\u001b[49m\u001b[38;5;241;43m.\u001b[39;49m\u001b[43mfit\u001b[49m\u001b[43m(\u001b[49m\u001b[43mX_train\u001b[49m\u001b[38;5;241;43m.\u001b[39;49m\u001b[43mvalues\u001b[49m\u001b[43m)\u001b[49m\n",
      "File \u001b[1;32mc:\\Users\\sergey.churkov\\AppData\\Local\\anaconda3\\envs\\gpu\\lib\\site-packages\\hmmlearn\\base.py:473\u001b[0m, in \u001b[0;36m_AbstractHMM.fit\u001b[1;34m(self, X, lengths)\u001b[0m\n\u001b[0;32m    470\u001b[0m \u001b[38;5;28mself\u001b[39m\u001b[38;5;241m.\u001b[39mmonitor_\u001b[38;5;241m.\u001b[39m_reset()\n\u001b[0;32m    472\u001b[0m \u001b[38;5;28;01mfor\u001b[39;00m \u001b[38;5;28miter\u001b[39m \u001b[38;5;129;01min\u001b[39;00m \u001b[38;5;28mrange\u001b[39m(\u001b[38;5;28mself\u001b[39m\u001b[38;5;241m.\u001b[39mn_iter):\n\u001b[1;32m--> 473\u001b[0m     stats, curr_logprob \u001b[38;5;241m=\u001b[39m \u001b[38;5;28;43mself\u001b[39;49m\u001b[38;5;241;43m.\u001b[39;49m\u001b[43m_do_estep\u001b[49m\u001b[43m(\u001b[49m\u001b[43mX\u001b[49m\u001b[43m,\u001b[49m\u001b[43m \u001b[49m\u001b[43mlengths\u001b[49m\u001b[43m)\u001b[49m\n\u001b[0;32m    475\u001b[0m     \u001b[38;5;66;03m# Compute lower bound before updating model parameters\u001b[39;00m\n\u001b[0;32m    476\u001b[0m     lower_bound \u001b[38;5;241m=\u001b[39m \u001b[38;5;28mself\u001b[39m\u001b[38;5;241m.\u001b[39m_compute_lower_bound(curr_logprob)\n",
      "File \u001b[1;32mc:\\Users\\sergey.churkov\\AppData\\Local\\anaconda3\\envs\\gpu\\lib\\site-packages\\hmmlearn\\base.py:750\u001b[0m, in \u001b[0;36m_AbstractHMM._do_estep\u001b[1;34m(self, X, lengths)\u001b[0m\n\u001b[0;32m    748\u001b[0m curr_logprob \u001b[38;5;241m=\u001b[39m \u001b[38;5;241m0\u001b[39m\n\u001b[0;32m    749\u001b[0m \u001b[38;5;28;01mfor\u001b[39;00m sub_X \u001b[38;5;129;01min\u001b[39;00m _utils\u001b[38;5;241m.\u001b[39msplit_X_lengths(X, lengths):\n\u001b[1;32m--> 750\u001b[0m     lattice, logprob, posteriors, fwdlattice, bwdlattice \u001b[38;5;241m=\u001b[39m \u001b[43mimpl\u001b[49m\u001b[43m(\u001b[49m\u001b[43msub_X\u001b[49m\u001b[43m)\u001b[49m\n\u001b[0;32m    751\u001b[0m     \u001b[38;5;66;03m# Derived HMM classes will implement the following method to\u001b[39;00m\n\u001b[0;32m    752\u001b[0m     \u001b[38;5;66;03m# update their probability distributions, so keep\u001b[39;00m\n\u001b[0;32m    753\u001b[0m     \u001b[38;5;66;03m# a single call to this method for simplicity.\u001b[39;00m\n\u001b[0;32m    754\u001b[0m     \u001b[38;5;28mself\u001b[39m\u001b[38;5;241m.\u001b[39m_accumulate_sufficient_statistics(\n\u001b[0;32m    755\u001b[0m         stats, sub_X, lattice, posteriors, fwdlattice,\n\u001b[0;32m    756\u001b[0m         bwdlattice)\n",
      "File \u001b[1;32mc:\\Users\\sergey.churkov\\AppData\\Local\\anaconda3\\envs\\gpu\\lib\\site-packages\\hmmlearn\\base.py:863\u001b[0m, in \u001b[0;36mBaseHMM._fit_log\u001b[1;34m(self, X)\u001b[0m\n\u001b[0;32m    862\u001b[0m \u001b[38;5;28;01mdef\u001b[39;00m \u001b[38;5;21m_fit_log\u001b[39m(\u001b[38;5;28mself\u001b[39m, X):\n\u001b[1;32m--> 863\u001b[0m     log_frameprob \u001b[38;5;241m=\u001b[39m \u001b[38;5;28;43mself\u001b[39;49m\u001b[38;5;241;43m.\u001b[39;49m\u001b[43m_compute_log_likelihood\u001b[49m\u001b[43m(\u001b[49m\u001b[43mX\u001b[49m\u001b[43m)\u001b[49m\n\u001b[0;32m    864\u001b[0m     log_prob, fwdlattice \u001b[38;5;241m=\u001b[39m _hmmc\u001b[38;5;241m.\u001b[39mforward_log(\n\u001b[0;32m    865\u001b[0m         \u001b[38;5;28mself\u001b[39m\u001b[38;5;241m.\u001b[39mstartprob_, \u001b[38;5;28mself\u001b[39m\u001b[38;5;241m.\u001b[39mtransmat_, log_frameprob)\n\u001b[0;32m    866\u001b[0m     bwdlattice \u001b[38;5;241m=\u001b[39m _hmmc\u001b[38;5;241m.\u001b[39mbackward_log(\n\u001b[0;32m    867\u001b[0m         \u001b[38;5;28mself\u001b[39m\u001b[38;5;241m.\u001b[39mstartprob_, \u001b[38;5;28mself\u001b[39m\u001b[38;5;241m.\u001b[39mtransmat_, log_frameprob)\n",
      "File \u001b[1;32mc:\\Users\\sergey.churkov\\AppData\\Local\\anaconda3\\envs\\gpu\\lib\\site-packages\\hmmlearn\\_emissions.py:130\u001b[0m, in \u001b[0;36mBaseGaussianHMM._compute_log_likelihood\u001b[1;34m(self, X)\u001b[0m\n\u001b[0;32m    129\u001b[0m \u001b[38;5;28;01mdef\u001b[39;00m \u001b[38;5;21m_compute_log_likelihood\u001b[39m(\u001b[38;5;28mself\u001b[39m, X):\n\u001b[1;32m--> 130\u001b[0m     \u001b[38;5;28;01mreturn\u001b[39;00m \u001b[43mlog_multivariate_normal_density\u001b[49m\u001b[43m(\u001b[49m\n\u001b[0;32m    131\u001b[0m \u001b[43m        \u001b[49m\u001b[43mX\u001b[49m\u001b[43m,\u001b[49m\u001b[43m \u001b[49m\u001b[38;5;28;43mself\u001b[39;49m\u001b[38;5;241;43m.\u001b[39;49m\u001b[43mmeans_\u001b[49m\u001b[43m,\u001b[49m\u001b[43m \u001b[49m\u001b[38;5;28;43mself\u001b[39;49m\u001b[38;5;241;43m.\u001b[39;49m\u001b[43m_covars_\u001b[49m\u001b[43m,\u001b[49m\u001b[43m \u001b[49m\u001b[38;5;28;43mself\u001b[39;49m\u001b[38;5;241;43m.\u001b[39;49m\u001b[43mcovariance_type\u001b[49m\u001b[43m)\u001b[49m\n",
      "File \u001b[1;32mc:\\Users\\sergey.churkov\\AppData\\Local\\anaconda3\\envs\\gpu\\lib\\site-packages\\hmmlearn\\stats.py:42\u001b[0m, in \u001b[0;36mlog_multivariate_normal_density\u001b[1;34m(X, means, covars, covariance_type)\u001b[0m\n\u001b[0;32m      6\u001b[0m \u001b[38;5;250m\u001b[39m\u001b[38;5;124;03m\"\"\"\u001b[39;00m\n\u001b[0;32m      7\u001b[0m \u001b[38;5;124;03mCompute the log probability under a multivariate Gaussian distribution.\u001b[39;00m\n\u001b[0;32m      8\u001b[0m \n\u001b[1;32m   (...)\u001b[0m\n\u001b[0;32m     35\u001b[0m \u001b[38;5;124;03m    X under each of the n_components multivariate Gaussian distributions.\u001b[39;00m\n\u001b[0;32m     36\u001b[0m \u001b[38;5;124;03m\"\"\"\u001b[39;00m\n\u001b[0;32m     37\u001b[0m log_multivariate_normal_density_dict \u001b[38;5;241m=\u001b[39m {\n\u001b[0;32m     38\u001b[0m     \u001b[38;5;124m'\u001b[39m\u001b[38;5;124mspherical\u001b[39m\u001b[38;5;124m'\u001b[39m: _log_multivariate_normal_density_spherical,\n\u001b[0;32m     39\u001b[0m     \u001b[38;5;124m'\u001b[39m\u001b[38;5;124mtied\u001b[39m\u001b[38;5;124m'\u001b[39m: _log_multivariate_normal_density_tied,\n\u001b[0;32m     40\u001b[0m     \u001b[38;5;124m'\u001b[39m\u001b[38;5;124mdiag\u001b[39m\u001b[38;5;124m'\u001b[39m: _log_multivariate_normal_density_diag,\n\u001b[0;32m     41\u001b[0m     \u001b[38;5;124m'\u001b[39m\u001b[38;5;124mfull\u001b[39m\u001b[38;5;124m'\u001b[39m: _log_multivariate_normal_density_full}\n\u001b[1;32m---> 42\u001b[0m \u001b[38;5;28;01mreturn\u001b[39;00m \u001b[43mlog_multivariate_normal_density_dict\u001b[49m\u001b[43m[\u001b[49m\u001b[43mcovariance_type\u001b[49m\u001b[43m]\u001b[49m\u001b[43m(\u001b[49m\n\u001b[0;32m     43\u001b[0m \u001b[43m    \u001b[49m\u001b[43mX\u001b[49m\u001b[43m,\u001b[49m\u001b[43m \u001b[49m\u001b[43mmeans\u001b[49m\u001b[43m,\u001b[49m\u001b[43m \u001b[49m\u001b[43mcovars\u001b[49m\n\u001b[0;32m     44\u001b[0m \u001b[43m\u001b[49m\u001b[43m)\u001b[49m\n",
      "File \u001b[1;32mc:\\Users\\sergey.churkov\\AppData\\Local\\anaconda3\\envs\\gpu\\lib\\site-packages\\hmmlearn\\stats.py:89\u001b[0m, in \u001b[0;36m_log_multivariate_normal_density_full\u001b[1;34m(X, means, covars, min_covar)\u001b[0m\n\u001b[0;32m     86\u001b[0m         cv_chol \u001b[38;5;241m=\u001b[39m linalg\u001b[38;5;241m.\u001b[39mcholesky(cv \u001b[38;5;241m+\u001b[39m min_covar \u001b[38;5;241m*\u001b[39m np\u001b[38;5;241m.\u001b[39meye(nf),\n\u001b[0;32m     87\u001b[0m                                   lower\u001b[38;5;241m=\u001b[39m\u001b[38;5;28;01mTrue\u001b[39;00m)\n\u001b[0;32m     88\u001b[0m     \u001b[38;5;28;01mexcept\u001b[39;00m linalg\u001b[38;5;241m.\u001b[39mLinAlgError:\n\u001b[1;32m---> 89\u001b[0m         \u001b[38;5;28;01mraise\u001b[39;00m \u001b[38;5;167;01mValueError\u001b[39;00m(\u001b[38;5;124m\"\u001b[39m\u001b[38;5;124m'\u001b[39m\u001b[38;5;124mcovars\u001b[39m\u001b[38;5;124m'\u001b[39m\u001b[38;5;124m must be symmetric, \u001b[39m\u001b[38;5;124m\"\u001b[39m\n\u001b[0;32m     90\u001b[0m                          \u001b[38;5;124m\"\u001b[39m\u001b[38;5;124mpositive-definite\u001b[39m\u001b[38;5;124m\"\u001b[39m)\n\u001b[0;32m     92\u001b[0m cv_log_det \u001b[38;5;241m=\u001b[39m \u001b[38;5;241m2\u001b[39m \u001b[38;5;241m*\u001b[39m np\u001b[38;5;241m.\u001b[39msum(np\u001b[38;5;241m.\u001b[39mlog(np\u001b[38;5;241m.\u001b[39mdiagonal(cv_chol)))\n\u001b[0;32m     93\u001b[0m cv_sol \u001b[38;5;241m=\u001b[39m linalg\u001b[38;5;241m.\u001b[39msolve_triangular(cv_chol, (X \u001b[38;5;241m-\u001b[39m mu)\u001b[38;5;241m.\u001b[39mT, lower\u001b[38;5;241m=\u001b[39m\u001b[38;5;28;01mTrue\u001b[39;00m)\u001b[38;5;241m.\u001b[39mT\n",
      "\u001b[1;31mValueError\u001b[0m: 'covars' must be symmetric, positive-definite"
     ]
    }
   ],
   "source": [
    "# Train Model\n",
    "model = GaussianHMM(n_components=4, covariance_type='full')\n",
    "model.fit(X_train.values)"
   ]
  },
  {
   "cell_type": "code",
   "execution_count": null,
   "metadata": {},
   "outputs": [
    {
     "ename": "ValueError",
     "evalue": "'covars' must be symmetric, positive-definite",
     "output_type": "error",
     "traceback": [
      "\u001b[1;31m---------------------------------------------------------------------------\u001b[0m",
      "\u001b[1;31mLinAlgError\u001b[0m                               Traceback (most recent call last)",
      "File \u001b[1;32mc:\\Users\\sergey.churkov\\AppData\\Local\\anaconda3\\envs\\gpu\\lib\\site-packages\\hmmlearn\\stats.py:81\u001b[0m, in \u001b[0;36m_log_multivariate_normal_density_full\u001b[1;34m(X, means, covars, min_covar)\u001b[0m\n\u001b[0;32m     80\u001b[0m \u001b[38;5;28;01mtry\u001b[39;00m:\n\u001b[1;32m---> 81\u001b[0m     cv_chol \u001b[38;5;241m=\u001b[39m \u001b[43mlinalg\u001b[49m\u001b[38;5;241;43m.\u001b[39;49m\u001b[43mcholesky\u001b[49m\u001b[43m(\u001b[49m\u001b[43mcv\u001b[49m\u001b[43m,\u001b[49m\u001b[43m \u001b[49m\u001b[43mlower\u001b[49m\u001b[38;5;241;43m=\u001b[39;49m\u001b[38;5;28;43;01mTrue\u001b[39;49;00m\u001b[43m)\u001b[49m\n\u001b[0;32m     82\u001b[0m \u001b[38;5;28;01mexcept\u001b[39;00m linalg\u001b[38;5;241m.\u001b[39mLinAlgError:\n\u001b[0;32m     83\u001b[0m     \u001b[38;5;66;03m# The model is most probably stuck in a component with too\u001b[39;00m\n\u001b[0;32m     84\u001b[0m     \u001b[38;5;66;03m# few observations, we need to reinitialize this components\u001b[39;00m\n",
      "File \u001b[1;32mc:\\Users\\sergey.churkov\\AppData\\Local\\anaconda3\\envs\\gpu\\lib\\site-packages\\scipy\\linalg\\_decomp_cholesky.py:89\u001b[0m, in \u001b[0;36mcholesky\u001b[1;34m(a, lower, overwrite_a, check_finite)\u001b[0m\n\u001b[0;32m     46\u001b[0m \u001b[38;5;250m\u001b[39m\u001b[38;5;124;03m\"\"\"\u001b[39;00m\n\u001b[0;32m     47\u001b[0m \u001b[38;5;124;03mCompute the Cholesky decomposition of a matrix.\u001b[39;00m\n\u001b[0;32m     48\u001b[0m \n\u001b[1;32m   (...)\u001b[0m\n\u001b[0;32m     87\u001b[0m \n\u001b[0;32m     88\u001b[0m \u001b[38;5;124;03m\"\"\"\u001b[39;00m\n\u001b[1;32m---> 89\u001b[0m c, lower \u001b[38;5;241m=\u001b[39m \u001b[43m_cholesky\u001b[49m\u001b[43m(\u001b[49m\u001b[43ma\u001b[49m\u001b[43m,\u001b[49m\u001b[43m \u001b[49m\u001b[43mlower\u001b[49m\u001b[38;5;241;43m=\u001b[39;49m\u001b[43mlower\u001b[49m\u001b[43m,\u001b[49m\u001b[43m \u001b[49m\u001b[43moverwrite_a\u001b[49m\u001b[38;5;241;43m=\u001b[39;49m\u001b[43moverwrite_a\u001b[49m\u001b[43m,\u001b[49m\u001b[43m \u001b[49m\u001b[43mclean\u001b[49m\u001b[38;5;241;43m=\u001b[39;49m\u001b[38;5;28;43;01mTrue\u001b[39;49;00m\u001b[43m,\u001b[49m\n\u001b[0;32m     90\u001b[0m \u001b[43m                     \u001b[49m\u001b[43mcheck_finite\u001b[49m\u001b[38;5;241;43m=\u001b[39;49m\u001b[43mcheck_finite\u001b[49m\u001b[43m)\u001b[49m\n\u001b[0;32m     91\u001b[0m \u001b[38;5;28;01mreturn\u001b[39;00m c\n",
      "File \u001b[1;32mc:\\Users\\sergey.churkov\\AppData\\Local\\anaconda3\\envs\\gpu\\lib\\site-packages\\scipy\\linalg\\_decomp_cholesky.py:37\u001b[0m, in \u001b[0;36m_cholesky\u001b[1;34m(a, lower, overwrite_a, clean, check_finite)\u001b[0m\n\u001b[0;32m     36\u001b[0m \u001b[38;5;28;01mif\u001b[39;00m info \u001b[38;5;241m>\u001b[39m \u001b[38;5;241m0\u001b[39m:\n\u001b[1;32m---> 37\u001b[0m     \u001b[38;5;28;01mraise\u001b[39;00m LinAlgError(\u001b[38;5;124m\"\u001b[39m\u001b[38;5;132;01m%d\u001b[39;00m\u001b[38;5;124m-th leading minor of the array is not positive \u001b[39m\u001b[38;5;124m\"\u001b[39m\n\u001b[0;32m     38\u001b[0m                       \u001b[38;5;124m\"\u001b[39m\u001b[38;5;124mdefinite\u001b[39m\u001b[38;5;124m\"\u001b[39m \u001b[38;5;241m%\u001b[39m info)\n\u001b[0;32m     39\u001b[0m \u001b[38;5;28;01mif\u001b[39;00m info \u001b[38;5;241m<\u001b[39m \u001b[38;5;241m0\u001b[39m:\n",
      "\u001b[1;31mLinAlgError\u001b[0m: 2-th leading minor of the array is not positive definite",
      "\nDuring handling of the above exception, another exception occurred:\n",
      "\u001b[1;31mLinAlgError\u001b[0m                               Traceback (most recent call last)",
      "File \u001b[1;32mc:\\Users\\sergey.churkov\\AppData\\Local\\anaconda3\\envs\\gpu\\lib\\site-packages\\hmmlearn\\stats.py:86\u001b[0m, in \u001b[0;36m_log_multivariate_normal_density_full\u001b[1;34m(X, means, covars, min_covar)\u001b[0m\n\u001b[0;32m     85\u001b[0m \u001b[38;5;28;01mtry\u001b[39;00m:\n\u001b[1;32m---> 86\u001b[0m     cv_chol \u001b[38;5;241m=\u001b[39m \u001b[43mlinalg\u001b[49m\u001b[38;5;241;43m.\u001b[39;49m\u001b[43mcholesky\u001b[49m\u001b[43m(\u001b[49m\u001b[43mcv\u001b[49m\u001b[43m \u001b[49m\u001b[38;5;241;43m+\u001b[39;49m\u001b[43m \u001b[49m\u001b[43mmin_covar\u001b[49m\u001b[43m \u001b[49m\u001b[38;5;241;43m*\u001b[39;49m\u001b[43m \u001b[49m\u001b[43mnp\u001b[49m\u001b[38;5;241;43m.\u001b[39;49m\u001b[43meye\u001b[49m\u001b[43m(\u001b[49m\u001b[43mnf\u001b[49m\u001b[43m)\u001b[49m\u001b[43m,\u001b[49m\n\u001b[0;32m     87\u001b[0m \u001b[43m                              \u001b[49m\u001b[43mlower\u001b[49m\u001b[38;5;241;43m=\u001b[39;49m\u001b[38;5;28;43;01mTrue\u001b[39;49;00m\u001b[43m)\u001b[49m\n\u001b[0;32m     88\u001b[0m \u001b[38;5;28;01mexcept\u001b[39;00m linalg\u001b[38;5;241m.\u001b[39mLinAlgError:\n",
      "File \u001b[1;32mc:\\Users\\sergey.churkov\\AppData\\Local\\anaconda3\\envs\\gpu\\lib\\site-packages\\scipy\\linalg\\_decomp_cholesky.py:89\u001b[0m, in \u001b[0;36mcholesky\u001b[1;34m(a, lower, overwrite_a, check_finite)\u001b[0m\n\u001b[0;32m     46\u001b[0m \u001b[38;5;250m\u001b[39m\u001b[38;5;124;03m\"\"\"\u001b[39;00m\n\u001b[0;32m     47\u001b[0m \u001b[38;5;124;03mCompute the Cholesky decomposition of a matrix.\u001b[39;00m\n\u001b[0;32m     48\u001b[0m \n\u001b[1;32m   (...)\u001b[0m\n\u001b[0;32m     87\u001b[0m \n\u001b[0;32m     88\u001b[0m \u001b[38;5;124;03m\"\"\"\u001b[39;00m\n\u001b[1;32m---> 89\u001b[0m c, lower \u001b[38;5;241m=\u001b[39m \u001b[43m_cholesky\u001b[49m\u001b[43m(\u001b[49m\u001b[43ma\u001b[49m\u001b[43m,\u001b[49m\u001b[43m \u001b[49m\u001b[43mlower\u001b[49m\u001b[38;5;241;43m=\u001b[39;49m\u001b[43mlower\u001b[49m\u001b[43m,\u001b[49m\u001b[43m \u001b[49m\u001b[43moverwrite_a\u001b[49m\u001b[38;5;241;43m=\u001b[39;49m\u001b[43moverwrite_a\u001b[49m\u001b[43m,\u001b[49m\u001b[43m \u001b[49m\u001b[43mclean\u001b[49m\u001b[38;5;241;43m=\u001b[39;49m\u001b[38;5;28;43;01mTrue\u001b[39;49;00m\u001b[43m,\u001b[49m\n\u001b[0;32m     90\u001b[0m \u001b[43m                     \u001b[49m\u001b[43mcheck_finite\u001b[49m\u001b[38;5;241;43m=\u001b[39;49m\u001b[43mcheck_finite\u001b[49m\u001b[43m)\u001b[49m\n\u001b[0;32m     91\u001b[0m \u001b[38;5;28;01mreturn\u001b[39;00m c\n",
      "File \u001b[1;32mc:\\Users\\sergey.churkov\\AppData\\Local\\anaconda3\\envs\\gpu\\lib\\site-packages\\scipy\\linalg\\_decomp_cholesky.py:37\u001b[0m, in \u001b[0;36m_cholesky\u001b[1;34m(a, lower, overwrite_a, clean, check_finite)\u001b[0m\n\u001b[0;32m     36\u001b[0m \u001b[38;5;28;01mif\u001b[39;00m info \u001b[38;5;241m>\u001b[39m \u001b[38;5;241m0\u001b[39m:\n\u001b[1;32m---> 37\u001b[0m     \u001b[38;5;28;01mraise\u001b[39;00m LinAlgError(\u001b[38;5;124m\"\u001b[39m\u001b[38;5;132;01m%d\u001b[39;00m\u001b[38;5;124m-th leading minor of the array is not positive \u001b[39m\u001b[38;5;124m\"\u001b[39m\n\u001b[0;32m     38\u001b[0m                       \u001b[38;5;124m\"\u001b[39m\u001b[38;5;124mdefinite\u001b[39m\u001b[38;5;124m\"\u001b[39m \u001b[38;5;241m%\u001b[39m info)\n\u001b[0;32m     39\u001b[0m \u001b[38;5;28;01mif\u001b[39;00m info \u001b[38;5;241m<\u001b[39m \u001b[38;5;241m0\u001b[39m:\n",
      "\u001b[1;31mLinAlgError\u001b[0m: 2-th leading minor of the array is not positive definite",
      "\nDuring handling of the above exception, another exception occurred:\n",
      "\u001b[1;31mValueError\u001b[0m                                Traceback (most recent call last)",
      "Cell \u001b[1;32mIn[6], line 2\u001b[0m\n\u001b[0;32m      1\u001b[0m \u001b[38;5;66;03m#Check Results\u001b[39;00m\n\u001b[1;32m----> 2\u001b[0m hidden_states \u001b[38;5;241m=\u001b[39m \u001b[43mmodel\u001b[49m\u001b[38;5;241;43m.\u001b[39;49m\u001b[43mpredict\u001b[49m\u001b[43m(\u001b[49m\u001b[43mX_train\u001b[49m\u001b[38;5;241;43m.\u001b[39;49m\u001b[43mvalues\u001b[49m\u001b[43m)\u001b[49m\n\u001b[0;32m      3\u001b[0m \u001b[38;5;66;03m# print(hidden_states[:40])\u001b[39;00m\n\u001b[0;32m      4\u001b[0m \u001b[38;5;66;03m# len(hidden_states)\u001b[39;00m\n\u001b[0;32m      5\u001b[0m \u001b[38;5;28mprint\u001b[39m(hidden_states)\n",
      "File \u001b[1;32mc:\\Users\\sergey.churkov\\AppData\\Local\\anaconda3\\envs\\gpu\\lib\\site-packages\\hmmlearn\\base.py:363\u001b[0m, in \u001b[0;36m_AbstractHMM.predict\u001b[1;34m(self, X, lengths)\u001b[0m\n\u001b[0;32m    346\u001b[0m \u001b[38;5;28;01mdef\u001b[39;00m \u001b[38;5;21mpredict\u001b[39m(\u001b[38;5;28mself\u001b[39m, X, lengths\u001b[38;5;241m=\u001b[39m\u001b[38;5;28;01mNone\u001b[39;00m):\n\u001b[0;32m    347\u001b[0m \u001b[38;5;250m    \u001b[39m\u001b[38;5;124;03m\"\"\"\u001b[39;00m\n\u001b[0;32m    348\u001b[0m \u001b[38;5;124;03m    Find most likely state sequence corresponding to ``X``.\u001b[39;00m\n\u001b[0;32m    349\u001b[0m \n\u001b[1;32m   (...)\u001b[0m\n\u001b[0;32m    361\u001b[0m \u001b[38;5;124;03m        Labels for each sample from ``X``.\u001b[39;00m\n\u001b[0;32m    362\u001b[0m \u001b[38;5;124;03m    \"\"\"\u001b[39;00m\n\u001b[1;32m--> 363\u001b[0m     _, state_sequence \u001b[38;5;241m=\u001b[39m \u001b[38;5;28;43mself\u001b[39;49m\u001b[38;5;241;43m.\u001b[39;49m\u001b[43mdecode\u001b[49m\u001b[43m(\u001b[49m\u001b[43mX\u001b[49m\u001b[43m,\u001b[49m\u001b[43m \u001b[49m\u001b[43mlengths\u001b[49m\u001b[43m)\u001b[49m\n\u001b[0;32m    364\u001b[0m     \u001b[38;5;28;01mreturn\u001b[39;00m state_sequence\n",
      "File \u001b[1;32mc:\\Users\\sergey.churkov\\AppData\\Local\\anaconda3\\envs\\gpu\\lib\\site-packages\\hmmlearn\\base.py:340\u001b[0m, in \u001b[0;36m_AbstractHMM.decode\u001b[1;34m(self, X, lengths, algorithm)\u001b[0m\n\u001b[0;32m    337\u001b[0m sub_state_sequences \u001b[38;5;241m=\u001b[39m []\n\u001b[0;32m    338\u001b[0m \u001b[38;5;28;01mfor\u001b[39;00m sub_X \u001b[38;5;129;01min\u001b[39;00m _utils\u001b[38;5;241m.\u001b[39msplit_X_lengths(X, lengths):\n\u001b[0;32m    339\u001b[0m     \u001b[38;5;66;03m# XXX decoder works on a single sample at a time!\u001b[39;00m\n\u001b[1;32m--> 340\u001b[0m     sub_log_prob, sub_state_sequence \u001b[38;5;241m=\u001b[39m \u001b[43mdecoder\u001b[49m\u001b[43m(\u001b[49m\u001b[43msub_X\u001b[49m\u001b[43m)\u001b[49m\n\u001b[0;32m    341\u001b[0m     log_prob \u001b[38;5;241m+\u001b[39m\u001b[38;5;241m=\u001b[39m sub_log_prob\n\u001b[0;32m    342\u001b[0m     sub_state_sequences\u001b[38;5;241m.\u001b[39mappend(sub_state_sequence)\n",
      "File \u001b[1;32mc:\\Users\\sergey.churkov\\AppData\\Local\\anaconda3\\envs\\gpu\\lib\\site-packages\\hmmlearn\\base.py:285\u001b[0m, in \u001b[0;36m_AbstractHMM._decode_viterbi\u001b[1;34m(self, X)\u001b[0m\n\u001b[0;32m    284\u001b[0m \u001b[38;5;28;01mdef\u001b[39;00m \u001b[38;5;21m_decode_viterbi\u001b[39m(\u001b[38;5;28mself\u001b[39m, X):\n\u001b[1;32m--> 285\u001b[0m     log_frameprob \u001b[38;5;241m=\u001b[39m \u001b[38;5;28;43mself\u001b[39;49m\u001b[38;5;241;43m.\u001b[39;49m\u001b[43m_compute_log_likelihood\u001b[49m\u001b[43m(\u001b[49m\u001b[43mX\u001b[49m\u001b[43m)\u001b[49m\n\u001b[0;32m    286\u001b[0m     \u001b[38;5;28;01mreturn\u001b[39;00m _hmmc\u001b[38;5;241m.\u001b[39mviterbi(\u001b[38;5;28mself\u001b[39m\u001b[38;5;241m.\u001b[39mstartprob_, \u001b[38;5;28mself\u001b[39m\u001b[38;5;241m.\u001b[39mtransmat_, log_frameprob)\n",
      "File \u001b[1;32mc:\\Users\\sergey.churkov\\AppData\\Local\\anaconda3\\envs\\gpu\\lib\\site-packages\\hmmlearn\\_emissions.py:130\u001b[0m, in \u001b[0;36mBaseGaussianHMM._compute_log_likelihood\u001b[1;34m(self, X)\u001b[0m\n\u001b[0;32m    129\u001b[0m \u001b[38;5;28;01mdef\u001b[39;00m \u001b[38;5;21m_compute_log_likelihood\u001b[39m(\u001b[38;5;28mself\u001b[39m, X):\n\u001b[1;32m--> 130\u001b[0m     \u001b[38;5;28;01mreturn\u001b[39;00m \u001b[43mlog_multivariate_normal_density\u001b[49m\u001b[43m(\u001b[49m\n\u001b[0;32m    131\u001b[0m \u001b[43m        \u001b[49m\u001b[43mX\u001b[49m\u001b[43m,\u001b[49m\u001b[43m \u001b[49m\u001b[38;5;28;43mself\u001b[39;49m\u001b[38;5;241;43m.\u001b[39;49m\u001b[43mmeans_\u001b[49m\u001b[43m,\u001b[49m\u001b[43m \u001b[49m\u001b[38;5;28;43mself\u001b[39;49m\u001b[38;5;241;43m.\u001b[39;49m\u001b[43m_covars_\u001b[49m\u001b[43m,\u001b[49m\u001b[43m \u001b[49m\u001b[38;5;28;43mself\u001b[39;49m\u001b[38;5;241;43m.\u001b[39;49m\u001b[43mcovariance_type\u001b[49m\u001b[43m)\u001b[49m\n",
      "File \u001b[1;32mc:\\Users\\sergey.churkov\\AppData\\Local\\anaconda3\\envs\\gpu\\lib\\site-packages\\hmmlearn\\stats.py:42\u001b[0m, in \u001b[0;36mlog_multivariate_normal_density\u001b[1;34m(X, means, covars, covariance_type)\u001b[0m\n\u001b[0;32m      6\u001b[0m \u001b[38;5;250m\u001b[39m\u001b[38;5;124;03m\"\"\"\u001b[39;00m\n\u001b[0;32m      7\u001b[0m \u001b[38;5;124;03mCompute the log probability under a multivariate Gaussian distribution.\u001b[39;00m\n\u001b[0;32m      8\u001b[0m \n\u001b[1;32m   (...)\u001b[0m\n\u001b[0;32m     35\u001b[0m \u001b[38;5;124;03m    X under each of the n_components multivariate Gaussian distributions.\u001b[39;00m\n\u001b[0;32m     36\u001b[0m \u001b[38;5;124;03m\"\"\"\u001b[39;00m\n\u001b[0;32m     37\u001b[0m log_multivariate_normal_density_dict \u001b[38;5;241m=\u001b[39m {\n\u001b[0;32m     38\u001b[0m     \u001b[38;5;124m'\u001b[39m\u001b[38;5;124mspherical\u001b[39m\u001b[38;5;124m'\u001b[39m: _log_multivariate_normal_density_spherical,\n\u001b[0;32m     39\u001b[0m     \u001b[38;5;124m'\u001b[39m\u001b[38;5;124mtied\u001b[39m\u001b[38;5;124m'\u001b[39m: _log_multivariate_normal_density_tied,\n\u001b[0;32m     40\u001b[0m     \u001b[38;5;124m'\u001b[39m\u001b[38;5;124mdiag\u001b[39m\u001b[38;5;124m'\u001b[39m: _log_multivariate_normal_density_diag,\n\u001b[0;32m     41\u001b[0m     \u001b[38;5;124m'\u001b[39m\u001b[38;5;124mfull\u001b[39m\u001b[38;5;124m'\u001b[39m: _log_multivariate_normal_density_full}\n\u001b[1;32m---> 42\u001b[0m \u001b[38;5;28;01mreturn\u001b[39;00m \u001b[43mlog_multivariate_normal_density_dict\u001b[49m\u001b[43m[\u001b[49m\u001b[43mcovariance_type\u001b[49m\u001b[43m]\u001b[49m\u001b[43m(\u001b[49m\n\u001b[0;32m     43\u001b[0m \u001b[43m    \u001b[49m\u001b[43mX\u001b[49m\u001b[43m,\u001b[49m\u001b[43m \u001b[49m\u001b[43mmeans\u001b[49m\u001b[43m,\u001b[49m\u001b[43m \u001b[49m\u001b[43mcovars\u001b[49m\n\u001b[0;32m     44\u001b[0m \u001b[43m\u001b[49m\u001b[43m)\u001b[49m\n",
      "File \u001b[1;32mc:\\Users\\sergey.churkov\\AppData\\Local\\anaconda3\\envs\\gpu\\lib\\site-packages\\hmmlearn\\stats.py:89\u001b[0m, in \u001b[0;36m_log_multivariate_normal_density_full\u001b[1;34m(X, means, covars, min_covar)\u001b[0m\n\u001b[0;32m     86\u001b[0m         cv_chol \u001b[38;5;241m=\u001b[39m linalg\u001b[38;5;241m.\u001b[39mcholesky(cv \u001b[38;5;241m+\u001b[39m min_covar \u001b[38;5;241m*\u001b[39m np\u001b[38;5;241m.\u001b[39meye(nf),\n\u001b[0;32m     87\u001b[0m                                   lower\u001b[38;5;241m=\u001b[39m\u001b[38;5;28;01mTrue\u001b[39;00m)\n\u001b[0;32m     88\u001b[0m     \u001b[38;5;28;01mexcept\u001b[39;00m linalg\u001b[38;5;241m.\u001b[39mLinAlgError:\n\u001b[1;32m---> 89\u001b[0m         \u001b[38;5;28;01mraise\u001b[39;00m \u001b[38;5;167;01mValueError\u001b[39;00m(\u001b[38;5;124m\"\u001b[39m\u001b[38;5;124m'\u001b[39m\u001b[38;5;124mcovars\u001b[39m\u001b[38;5;124m'\u001b[39m\u001b[38;5;124m must be symmetric, \u001b[39m\u001b[38;5;124m\"\u001b[39m\n\u001b[0;32m     90\u001b[0m                          \u001b[38;5;124m\"\u001b[39m\u001b[38;5;124mpositive-definite\u001b[39m\u001b[38;5;124m\"\u001b[39m)\n\u001b[0;32m     92\u001b[0m cv_log_det \u001b[38;5;241m=\u001b[39m \u001b[38;5;241m2\u001b[39m \u001b[38;5;241m*\u001b[39m np\u001b[38;5;241m.\u001b[39msum(np\u001b[38;5;241m.\u001b[39mlog(np\u001b[38;5;241m.\u001b[39mdiagonal(cv_chol)))\n\u001b[0;32m     93\u001b[0m cv_sol \u001b[38;5;241m=\u001b[39m linalg\u001b[38;5;241m.\u001b[39msolve_triangular(cv_chol, (X \u001b[38;5;241m-\u001b[39m mu)\u001b[38;5;241m.\u001b[39mT, lower\u001b[38;5;241m=\u001b[39m\u001b[38;5;28;01mTrue\u001b[39;00m)\u001b[38;5;241m.\u001b[39mT\n",
      "\u001b[1;31mValueError\u001b[0m: 'covars' must be symmetric, positive-definite"
     ]
    }
   ],
   "source": [
    "#Check Results\n",
    "hidden_states = model.predict(X_train.values)\n",
    "# print(hidden_states[:40])\n",
    "# len(hidden_states)\n",
    "print(hidden_states)"
   ]
  },
  {
   "cell_type": "code",
   "execution_count": null,
   "metadata": {},
   "outputs": [
    {
     "data": {
      "text/plain": [
       "array([[ 0.00565508,  0.0109688 ],\n",
       "       [ 0.00458283,  0.01281051],\n",
       "       [-0.00412881,  0.0170326 ],\n",
       "       [ 0.00580142,  0.01217195]])"
      ]
     },
     "execution_count": 292,
     "metadata": {},
     "output_type": "execute_result"
    }
   ],
   "source": [
    "# Regime state means for each feature\n",
    "model.means_"
   ]
  },
  {
   "cell_type": "code",
   "execution_count": null,
   "metadata": {},
   "outputs": [
    {
     "data": {
      "text/plain": [
       "array([[[2.97455464e-04, 2.74215832e-04],\n",
       "        [2.74215832e-04, 2.74498138e-04]],\n",
       "\n",
       "       [[2.04697672e-04, 1.53305621e-04],\n",
       "        [1.53305621e-04, 1.64825054e-04]],\n",
       "\n",
       "       [[2.13392295e-04, 1.04462239e-05],\n",
       "        [1.04462239e-05, 1.02058017e-04]],\n",
       "\n",
       "       [[2.01117651e-04, 1.65285961e-04],\n",
       "        [1.65285961e-04, 1.64413387e-04]]])"
      ]
     },
     "execution_count": 293,
     "metadata": {},
     "output_type": "execute_result"
    }
   ],
   "source": [
    "# Regime state covars for each feature\n",
    "model.covars_"
   ]
  },
  {
   "cell_type": "markdown",
   "metadata": {},
   "source": [
    "### Data Visualization"
   ]
  },
  {
   "cell_type": "code",
   "execution_count": null,
   "metadata": {},
   "outputs": [
    {
     "name": "stdout",
     "output_type": "stream",
     "text": [
      "Correct number of rows:  True\n",
      "[nan, nan, nan, nan, nan, nan, nan, nan, nan, nan, nan, nan, nan, nan, nan, nan, nan, nan, 436.099365234375, nan, nan, nan, nan, nan, nan, nan, nan, nan, nan, nan, nan, nan, nan, nan, nan, nan, nan, nan, nan, nan, nan, nan, nan, nan, nan, nan, nan, nan, nan, 422.2480163574219, nan, nan, nan, nan, nan, nan, 440.15716552734375, nan, nan, nan, nan, nan, nan, nan, nan, nan, nan, nan, nan, nan, nan, nan, nan, nan, nan, nan, nan, nan, nan, nan, nan, nan, nan, nan, nan, nan, nan, nan, nan, nan, nan, nan, nan, nan, nan, nan, nan, nan, nan, nan, nan, nan, nan, nan, nan, nan, nan, nan, nan, nan, nan, nan, nan, nan, nan, nan, nan, nan, nan, nan, nan, nan, nan, nan, nan, nan, nan, nan, nan, nan, nan, nan, nan, nan, nan, nan, nan, nan, nan, nan, nan, 396.5334167480469, nan, nan, nan, nan, nan, nan, nan, nan, nan, nan, nan, nan, nan, nan, nan, nan, nan, nan, nan, nan, nan, nan, nan, nan, nan, nan, nan, nan, nan, nan, nan, nan, nan, nan, nan, nan, nan, nan, nan, nan, nan, nan, nan, nan, nan, nan, nan, nan, nan, nan, nan, nan, nan, nan, nan, nan, nan, nan, nan, nan, nan, nan, nan, nan, nan, nan, nan, nan, nan, nan, nan, nan, nan, nan, nan, nan, nan, nan, nan, nan, nan, 392.1124572753906, nan, nan, nan, nan, nan, nan, nan, nan, nan, nan, nan, nan, nan, nan, nan, nan, nan, nan, nan, nan, nan, nan, nan, nan, nan, nan, nan, nan, nan, nan, nan, 384.7325744628906, nan, nan, nan, nan, nan, nan, nan, nan, nan, nan, nan, nan, nan, nan, nan, nan, nan, nan, nan, nan, nan, nan, nan, nan, nan, nan, nan, nan, nan, nan, nan, nan, nan, nan, nan, nan, nan, nan, nan, nan, nan, nan, nan, nan, nan, nan, nan, nan, nan, nan, nan, 392.0446472167969, nan, nan, 399.173828125, nan, nan, nan, nan, 404.6022644042969, nan, nan, nan, nan, nan, 409.2990417480469, nan, nan, nan, nan, nan, nan, nan, nan, nan, nan, nan, nan, nan, nan, nan, 406.3227844238281, nan, 407.50927734375, nan, 408.3794250488281, nan, nan, 414.5296936035156, nan, nan, nan, nan, nan, 415.3108215332031, nan, nan, 417.0906677246094, nan, nan, 423.23101806640625, nan, 424.3187255859375, nan, nan, 431.7642822265625, nan, nan, nan, nan, nan, 433.2192687988281, nan, nan, 432.8818359375, nan, 434.8071594238281, nan, 440.4443664550781, nan, nan, nan, nan, 439.1243591308594, nan, 446.1708679199219, nan, 447.44122314453125, nan, nan, nan, nan, 450.7759094238281, nan, nan, nan, nan, nan, nan, nan, nan, nan, nan, nan, nan, nan, nan, nan, nan, nan, nan, nan, 436.02789306640625, nan, nan, nan, nan, 439.4221496582031, nan, 447.60992431640625, nan, 447.78857421875, nan, nan, 441.4963684082031, nan, nan, nan, nan, nan, nan, nan, nan, nan, nan, nan, nan, nan, nan, nan, nan, nan, nan, nan, nan, nan, 430.5444030761719, nan, nan, nan, nan, nan, nan, nan, nan, nan, nan, nan, nan, nan, nan, nan, nan, nan, nan, nan, 433.9306640625, nan, nan, nan, nan, nan, nan, nan, 448.4119567871094, nan, 452.4256896972656, nan, nan, 453.4614562988281, nan, 453.09295654296875, nan, nan]\n",
      "[nan, nan, nan, nan, nan, nan, 456.56134033203125, nan, nan, nan, nan, nan, nan, nan, nan, nan, nan, nan, nan, nan, 443.31097412109375, nan, nan, nan, nan, nan, nan, nan, nan, nan, nan, nan, nan, nan, nan, nan, nan, nan, nan, nan, nan, nan, nan, nan, nan, nan, nan, nan, nan, nan, nan, 432.21337890625, nan, nan, nan, nan, nan, nan, 448.77191162109375, nan, nan, nan, 444.1534423828125, nan, nan, nan, nan, nan, nan, nan, nan, nan, nan, 432.39813232421875, nan, nan, nan, nan, nan, 415.9659729003906, nan, nan, nan, 417.181396484375, nan, nan, nan, nan, nan, nan, nan, nan, nan, nan, nan, nan, nan, nan, nan, nan, 403.76348876953125, nan, nan, nan, nan, nan, nan, nan, nan, nan, nan, nan, nan, nan, nan, nan, nan, nan, 380.9189147949219, nan, nan, nan, nan, nan, nan, nan, nan, 379.5420837402344, nan, nan, nan, nan, nan, nan, nan, nan, 389.4244079589844, nan, nan, nan, nan, nan, nan, 401.1230773925781, nan, nan, 404.4432067871094, nan, nan, nan, nan, nan, nan, nan, 419.6084899902344, nan, nan, nan, nan, nan, nan, 409.6578369140625, nan, nan, nan, nan, nan, nan, nan, nan, 390.97705078125, nan, nan, nan, nan, nan, nan, nan, nan, nan, nan, nan, nan, nan, nan, nan, nan, nan, 370.6094970703125, nan, nan, nan, nan, nan, nan, 358.84320068359375, nan, nan, 363.9027099609375, nan, nan, nan, 371.4919738769531, nan, nan, nan, nan, 378.6890563964844, nan, nan, nan, nan, 372.55096435546875, nan, nan, nan, nan, nan, nan, nan, nan, nan, 386.9058837890625, nan, nan, 394.4951477050781, nan, nan, nan, 399.4468078613281, nan, nan, nan, nan, 388.52374267578125, nan, nan, nan, nan, nan, nan, nan, nan, 380.44769287109375, nan, nan, 375.6900329589844, nan, nan, nan, nan, nan, nan, nan, 382.05328369140625, nan, nan, 391.0170593261719, nan, nan, nan, nan, nan, 394.63214111328125, nan, nan, nan, 399.60650634765625, nan, nan, nan, nan, nan, nan, 408.9741516113281, nan, nan, nan, 406.64947509765625, nan, nan, nan, nan, nan, nan, nan, nan, nan, 390.3275146484375, nan, nan, 398.1388244628906, nan, nan, nan, nan, nan, nan, nan, nan, nan, nan, nan, 394.4375, nan, nan, nan, nan, nan, 396.85015869140625, nan, nan, 406.342529296875, nan, nan, nan, nan, 405.1263122558594, nan, nan, 407.8356018066406, nan, nan, 409.49676513671875, nan, nan, 408.00372314453125, nan, nan, nan, nan, 410.8514099121094, nan, nan, nan, nan, nan, nan, nan, nan, nan, nan, nan, 410.5745544433594, nan, nan, 414.0946350097656, nan, nan, nan, nan, nan, 413.1651916503906, nan, nan, 422.3114929199219, nan, nan, nan, nan, 428.93634033203125, nan, nan, 437.6376953125, nan, nan, nan, nan, nan, 428.1874694824219, nan, nan, nan, nan, nan, nan, 436.3454895019531, nan, nan, nan, nan, nan, nan, nan, nan, 451.76837158203125, nan, nan, nan, nan, 452.0760192871094, nan, nan, nan, 453.0386962890625, nan, nan, nan, nan, nan, nan, nan, nan, 444.7317810058594, nan, nan, nan, nan, nan, nan, 439.6900939941406, nan, nan, nan, nan, nan, nan, nan, nan, 442.8560485839844, nan, nan, 445.0692443847656, nan, nan, 446.9648132324219, nan, nan, 440.92230224609375, nan, nan, nan, 430.4846496582031, nan, nan, nan, nan, nan, nan, nan, nan, 427.8055114746094, nan, nan, 434.5581359863281, nan, nan, nan, nan, nan, nan, nan, nan, nan, nan, nan, nan, nan, nan, 420.9532775878906, nan, nan, nan, nan, 435.484375, nan, nan, 438.4125061035156, nan, nan, nan, nan, nan, nan, 453.1826171875, nan, nan, nan, nan, 454.5570373535156]\n",
      "[462.8908996582031, 454.0024108886719, 453.5758972167969, 451.78271484375, 451.2204895019531, nan, nan, 450.2705383300781, 450.4547119140625, 442.4773864746094, 437.8829040527344, 433.0363464355469, 424.5356140136719, 426.3385314941406, 421.13336181640625, 420.0768127441406, 418.00250244140625, nan, nan, nan, nan, 432.8909606933594, 434.92657470703125, 433.53070068359375, 437.0977783203125, 443.4951171875, 435.5274658203125, 426.9394836425781, 425.5436096191406, 432.4063415527344, 432.8909606933594, 423.6437683105469, 420.90069580078125, 416.3837585449219, 408.9976501464844, 415.1527404785156, 424.3126525878906, 423.2270202636719, 416.78118896484375, 424.4483642578125, 422.335205078125, 418.9039306640625, 406.55499267578125, 403.4726257324219, 414.2900390625, 412.41925048828125, 407.17535400390625, 404.1995849609375, nan, nan, nan, nan, 432.0870056152344, 437.1429748535156, 431.5133056640625, nan, nan, nan, nan, 446.0008239746094, 439.1362609863281, nan, nan, 438.54315185546875, 434.15802001953125, 436.3457336425781, 435.1789855957031, 427.74078369140625, 426.1558837890625, 431.036865234375, 425.6697082519531, 425.8447570800781, nan, nan, 425.93218994140625, 414.2449951171875, 416.6466064453125, 404.5802307128906, nan, nan, 400.5937194824219, 403.0050964355469, nan, nan, 402.35357666015625, 399.9519348144531, 387.1466064453125, 388.0411071777344, 381.87664794921875, 381.47802734375, 390.59832763671875, 389.01348876953125, 397.0156555175781, 381.0112609863281, 378.6777038574219, 378.8430480957031, 385.93121337890625, 382.9850769042969, 386.3687744140625, nan, nan, 401.4979553222656, 398.25042724609375, 405.8345031738281, 399.17413330078125, 400.3894958496094, 404.23016357421875, 399.8353271484375, 390.3260498046875, 379.00830078125, 364.6180725097656, 363.5193176269531, 368.7018127441406, 356.4992370605469, 357.26776123046875, 366.2614440917969, 365.5974426269531, nan, nan, 379.46392822265625, 371.7104187011719, 371.40771484375, 368.3902893066406, 372.28656005859375, 372.9896545410156, 374.2493591308594, nan, nan, 375.2063293457031, 371.8861999511719, 369.9331359863281, 369.03472900390625, 376.085205078125, 372.9798583984375, 383.0574645996094, nan, nan, 385.811279296875, 386.280029296875, 381.70989990234375, nan, nan, nan, nan, 398.4766845703125, nan, nan, 403.7596130371094, 403.2908935546875, 401.6893615722656, 410.12652587890625, 410.12652587890625, 417.06951904296875, nan, nan, 416.63006591796875, 417.8409729003906, 412.22601318359375, 403.6424865722656, 402.66595458984375, nan, nan, 395.791259765625, 393.17425537109375, 388.8580322265625, 385.899169921875, 387.11004638671875, 383.0281677246094, 381.5830078125, nan, nan, 397.05096435546875, 401.31829833984375, 383.8680114746094, 385.3327941894531, 380.9579772949219, 378.05169677734375, 380.9834899902344, 376.6103515625, 370.0408020019531, 366.93255615234375, 360.78466796875, 357.2155456542969, 356.3036804199219, 363.3144226074219, 355.72515869140625, 350.224365234375, nan, nan, 369.7466735839844, 365.93243408203125, 355.72515869140625, 353.0090637207031, 350.7734680175781, nan, nan, 350.6656188964844, nan, nan, 361.3239440917969, 358.29412841796875, nan, nan, 377.4241638183594, 374.58062744140625, 372.5804138183594, nan, nan, 377.031982421875, 367.56988525390625, 363.7850646972656, nan, nan, 374.5610656738281, 366.84429931640625, 387.0039367675781, 390.74957275390625, 387.425537109375, 390.72991943359375, 387.7491149902344, 386.5626525878906, nan, nan, nan, nan, nan, 388.2001647949219, 387.5334167480469, nan, nan, 398.9859924316406, 391.8084716796875, 386.16064453125, nan, nan, 385.6213684082031, 391.18096923828125, 394.14215087890625, 391.6221923828125, 382.0424499511719, 377.5320129394531, 374.3306579589844, nan, nan, 375.02020263671875, nan, nan, 371.0209655761719, 377.6994934082031, 376.7045593261719, 375.11871337890625, 378.0147399902344, 373.70025634765625, nan, nan, nan, nan, nan, 392.53399658203125, 391.8149108886719, 385.62896728515625, 382.8216552734375, nan, nan, 394.20855712890625, 394.3563232421875, nan, nan, 394.59271240234375, 400.3945617675781, 404.6498718261719, 410.5403137207031, 406.1766662597656, nan, nan, 404.5021057128906, 400.9953918457031, nan, nan, 406.46234130859375, 407.78228759765625, 402.1676025390625, 401.16290283203125, 393.1152038574219, 392.57342529296875, 394.6616516113281, 390.44573974609375, nan, nan, 388.8302917480469, nan, nan, 398.4146728515625, 392.3074645996094, 392.94775390625, 385.6978759765625, 380.13250732421875, 379.5906982421875, 385.8653869628906, 383.4520568847656, 390.1797790527344, 385.6175231933594, nan, nan, 387.7137451171875, 388.7618713378906, nan, nan, nan, nan, nan, nan, nan, 404.088134765625, nan, nan, nan, nan, 403.47503662109375, nan, nan, nan, nan, nan, 407.2621154785156, nan, nan, 401.5271301269531, 399.8263854980469, 407.7861633300781, nan, nan, 406.2337951660156, 403.44537353515625, 400.5877685546875, 408.00372314453125, nan, nan, nan, nan, nan, nan, nan, nan, nan, nan, nan, 409.44732666015625, 406.48095703125, nan, nan, nan, nan, nan, nan, nan, nan, nan, nan, nan, nan, nan, nan, nan, 436.14697265625, 433.8841857910156, nan, nan, nan, nan, nan, nan, nan, nan, nan, nan, nan, 435.2438659667969, nan, nan, nan, nan, nan, nan, nan, nan, 448.7710876464844, nan, nan, nan, nan, 449.0787658691406, 453.4753723144531, nan, nan, 446.736572265625, 445.4562683105469, 443.44158935546875, 447.31219482421875, 445.3669738769531, 442.38958740234375, 442.5483703613281, nan, nan, 439.5511779785156, 436.32568359375, 433.00091552734375, nan, nan, nan, nan, 433.59637451171875, nan, nan, nan, nan, nan, nan, nan, nan, nan, nan, nan, 442.62774658203125, nan, nan, 441.57965087890625, nan, nan, 436.8687744140625, 429.6480407714844, nan, nan, 424.1602783203125, 424.32958984375, 426.78961181640625, 425.75384521484375, 425.5845031738281, 419.8876037597656, 422.9452209472656, nan, nan, nan, nan, nan, 431.90887451171875, 429.7575988769531, 434.2792663574219, 434.25933837890625, 428.4727783203125, 424.7080383300781, 419.4892272949219, 418.76214599609375, 421.91937255859375, 415.8638916015625, 410.88409423828125, 409.0216369628906, 413.9118347167969, nan, nan, 429.0205993652344, nan, nan, nan, nan, 432.088134765625, nan, nan, 446.91802978515625, nan, nan, nan, nan, nan, nan, nan, nan, nan, nan, nan]\n",
      "[nan, nan, nan, nan, nan, 455.33038330078125, nan, nan, nan, nan, nan, nan, nan, nan, nan, nan, nan, 428.38372802734375, nan, 439.04608154296875, nan, nan, nan, nan, nan, nan, nan, nan, nan, nan, nan, nan, nan, nan, nan, nan, nan, nan, nan, nan, nan, nan, nan, nan, nan, nan, nan, nan, 413.08807373046875, nan, 427.5307312011719, nan, nan, nan, nan, 438.0180969238281, nan, 443.2880554199219, nan, nan, nan, 440.380859375, nan, nan, nan, nan, nan, nan, nan, nan, nan, nan, 432.718994140625, nan, nan, nan, nan, nan, 405.7177734375, nan, nan, nan, 404.8524475097656, nan, nan, nan, nan, nan, nan, nan, nan, nan, nan, nan, nan, nan, nan, nan, nan, 394.0889587402344, nan, nan, nan, nan, nan, nan, nan, nan, nan, nan, nan, nan, nan, nan, nan, nan, nan, 369.18121337890625, nan, nan, nan, nan, nan, nan, nan, nan, 379.8545837402344, nan, nan, nan, nan, nan, nan, nan, nan, 385.498779296875, nan, nan, nan, nan, 391.62158203125, nan, 402.3143615722656, nan, nan, 404.71661376953125, nan, nan, nan, nan, nan, nan, nan, 418.7881774902344, nan, nan, nan, nan, nan, nan, 403.9549255371094, nan, nan, nan, nan, nan, nan, nan, nan, 388.4381103515625, nan, nan, nan, nan, nan, nan, nan, nan, nan, nan, nan, nan, nan, nan, nan, nan, nan, 359.470703125, nan, nan, nan, nan, nan, nan, 349.616455078125, nan, nan, 359.6766357421875, nan, nan, nan, 367.0011901855469, nan, nan, nan, nan, 381.4443054199219, nan, nan, nan, nan, 369.0210876464844, nan, nan, nan, nan, nan, nan, nan, nan, nan, 388.31781005859375, nan, nan, 394.5833740234375, nan, nan, nan, 399.7409362792969, nan, nan, nan, nan, 385.50372314453125, nan, nan, nan, nan, nan, nan, nan, nan, 374.8429260253906, nan, nan, 377.1773986816406, nan, nan, nan, nan, nan, nan, nan, 382.2699890136719, nan, nan, 389.5986328125, nan, nan, nan, nan, nan, 389.9532470703125, nan, nan, nan, 398.6904602050781, nan, nan, nan, nan, nan, nan, 403.6943664550781, nan, nan, nan, 401.9311828613281, nan, nan, nan, nan, nan, nan, nan, nan, nan, 391.7755432128906, nan, nan, 391.8543395996094, nan, nan, nan, nan, nan, nan, nan, nan, nan, nan, nan, 389.3254699707031, nan, nan, nan, 391.3129577636719, nan, 391.1646728515625, nan, nan, 404.800048828125, nan, nan, 403.0301208496094, nan, 405.0175476074219, nan, nan, 408.83428955078125, nan, nan, 409.56597900390625, nan, nan, 407.5785217285156, nan, nan, nan, nan, 411.2666931152344, nan, nan, nan, nan, nan, 408.1124572753906, nan, 408.22125244140625, nan, 406.9753723144531, nan, 405.6503601074219, nan, nan, 413.9265441894531, nan, nan, nan, 410.00103759765625, nan, 415.4690246582031, nan, nan, 423.1222839355469, nan, nan, 421.767578125, nan, 425.080078125, nan, nan, 432.2784423828125, nan, nan, nan, 431.66107177734375, nan, 429.944091796875, nan, nan, 433.1001892089844, nan, 439.9382019042969, nan, 439.7893371582031, nan, nan, 436.3454895019531, nan, 442.65753173828125, nan, 445.8929748535156, nan, 450.7659606933594, nan, nan, 448.7710876464844, nan, 452.00653076171875, nan, nan, nan, 454.3388366699219, nan, nan, nan, nan, nan, nan, nan, nan, 442.2903137207031, nan, nan, nan, nan, 433.2093200683594, nan, 434.8468933105469, nan, nan, 436.6531677246094, nan, 445.7738952636719, nan, 446.95489501953125, nan, 445.8532409667969, nan, nan, 442.16131591796875, nan, nan, 443.1438903808594, nan, nan, 441.838623046875, nan, nan, nan, 428.6819763183594, nan, nan, nan, nan, nan, nan, nan, nan, 422.7858581542969, nan, nan, 432.7853088378906, nan, nan, nan, nan, nan, nan, nan, nan, nan, nan, nan, nan, nan, nan, 416.51129150390625, nan, nan, 432.9347229003906, nan, 435.1656494140625, nan, nan, 438.8307800292969, nan, nan, 447.8641662597656, nan, 448.9696960449219, nan, 451.4396667480469, nan, nan, 452.6448059082031, nan, 452.7742614746094, nan]\n"
     ]
    }
   ],
   "source": [
    "#Structure the prices for plotting\n",
    "i = 0\n",
    "labels_0 = []\n",
    "labels_1 = []\n",
    "labels_2 = []\n",
    "labels_3 = []\n",
    "prices = df['Adj Close'].values.astype(float)\n",
    "print('Correct number of rows: ', len(prices) == len(hidden_states))\n",
    "for s in hidden_states:\n",
    "    if s == 0:\n",
    "        labels_0.append(prices[i])\n",
    "        labels_1.append(float('nan'))\n",
    "        labels_2.append(float('nan'))\n",
    "        labels_3.append(float('nan'))\n",
    "    if s == 1:\n",
    "        labels_0.append(float('nan'))\n",
    "        labels_1.append(prices[i])\n",
    "        labels_2.append(float('nan'))\n",
    "        labels_3.append(float('nan'))\n",
    "    if s == 2:\n",
    "        labels_0.append(float('nan'))\n",
    "        labels_1.append(float('nan'))\n",
    "        labels_2.append(prices[i])\n",
    "        labels_3.append(float('nan'))\n",
    "    if s == 3:\n",
    "        labels_0.append(float('nan'))\n",
    "        labels_1.append(float('nan'))\n",
    "        labels_2.append(float('nan'))\n",
    "        labels_3.append(prices[i])\n",
    "    i += 1\n",
    "\n",
    "\n",
    "print(labels_0)\n",
    "print(labels_1)\n",
    "print(labels_2)\n",
    "print(labels_3)\n",
    "# print(prices)\n",
    "# print(len(hidden_states))"
   ]
  },
  {
   "cell_type": "code",
   "execution_count": null,
   "metadata": {},
   "outputs": [
    {
     "data": {
      "image/png": "[encoded data removed]",
      "text/plain": [
       "<Figure size 1800x800 with 1 Axes>"
      ]
     },
     "metadata": {},
     "output_type": "display_data"
    }
   ],
   "source": [
    "# Plot Chart\n",
    "fig = plt.figure(figsize=(18, 8))\n",
    "# plt.plot(prices, color = 'red')\n",
    "plt.plot(labels_0, color=\"green\")\n",
    "plt.plot(labels_1, color=\"red\")\n",
    "plt.plot(labels_2, color=\"orange\")\n",
    "plt.plot(labels_3, color=\"black\")\n",
    "plt.show()"
   ]
  },
  {
   "cell_type": "code",
   "execution_count": null,
   "metadata": {},
   "outputs": [],
   "source": [
    "# fig = plt.figure(figsize=(18, 8))\n",
    "\n",
    "# # Создаем маски для каждого состояния\n",
    "# mask0 = hidden_states == 0\n",
    "# mask1 = hidden_states == 1\n",
    "# mask2 = hidden_states == 2\n",
    "# mask3 = hidden_states == 3\n",
    "\n",
    "# # Строим график для каждого состояния\n",
    "# plt.plot(df['Adj Close'].index[mask0], df['Adj Close'][mask0], color=\"green\")\n",
    "# plt.plot(df['Adj Close'].index[mask1], df['Adj Close'][mask1], color=\"red\")\n",
    "# plt.plot(df['Adj Close'].index[mask2], df['Adj Close'][mask2], color=\"orange\")\n",
    "# plt.plot(df['Adj Close'].index[mask3], df['Adj Close'][mask3], color=\"black\")\n",
    "\n",
    "# plt.show()\n"
   ]
  },
  {
   "cell_type": "code",
   "execution_count": null,
   "metadata": {},
   "outputs": [],
   "source": []
  }
 ],
 "metadata": {
  "kernelspec": {
   "display_name": "gpu",
   "language": "python",
   "name": "myenv"
  },
  "language_info": {
   "codemirror_mode": {
    "name": "ipython",
    "version": 3
   },
   "file_extension": ".py",
   "mimetype": "text/x-python",
   "name": "python",
   "nbconvert_exporter": "python",
   "pygments_lexer": "ipython3",
   "version": "3.9.18"
  }
 },
 "nbformat": 4,
 "nbformat_minor": 2
}
